{
 "cells": [
  {
   "cell_type": "code",
   "execution_count": null,
   "metadata": {},
   "outputs": [],
   "source": [
    "# !gdown https://drive.google.com/uc?id=1eAPyuQkPxmSk-Ow492eAIfn36_mKb7-p\n",
    "# !gdown https://drive.google.com/uc?id=1mZOLVhly7DAXCK0LXbGeODjd_yloBR_p\n",
    "# !unzip /content/AMD-Training400.zip\n",
    "# !unzip /content/DF-Annotation-Training400.zip"
   ]
  },
  {
   "cell_type": "markdown",
   "metadata": {},
   "source": [
    "# Exploratory data analysis"
   ]
  },
  {
   "cell_type": "code",
   "execution_count": null,
   "metadata": {},
   "outputs": [],
   "source": [
    "import os \n",
    "import pandas as pd \n",
    "\n",
    "path2data = \"./data\"\n",
    "path2labels = os.path.join(path2data,\"Training400\",\"Fovea_location.xlsx\")\n",
    "print(path2labels)\n",
    "labels_df = pd.read_excel(path2labels,index_col=\"ID\")\n",
    "labels_df.head()"
   ]
  },
  {
   "cell_type": "code",
   "execution_count": null,
   "metadata": {},
   "outputs": [],
   "source": [
    "labels_df.tail()"
   ]
  },
  {
   "cell_type": "code",
   "execution_count": null,
   "metadata": {},
   "outputs": [],
   "source": [
    "import seaborn as sns\n",
    "%matplotlib inline\n",
    "AorN = [imn[0] for imn in labels_df.imgName]\n",
    "sns.scatterplot(x=labels_df['Fovea_X'],y=labels_df['Fovea_Y'], hue=AorN)"
   ]
  },
  {
   "cell_type": "code",
   "execution_count": null,
   "metadata": {},
   "outputs": [],
   "source": [
    "import numpy as np \n",
    "from PIL import Image, ImageDraw\n",
    "import matplotlib.pylab as plt \n",
    "np.random.seed(2019)\n",
    "plt.rcParams['figure.figsize'] = (15, 9)\n",
    "plt.subplots_adjust(wspace=0, hspace=0.3)\n",
    "nrows,ncols=2,3\n",
    "imgName=labels_df[\"imgName\"]\n",
    "ids=labels_df.index\n",
    "rndIds=np.random.choice(ids,nrows*ncols)\n",
    "print(rndIds)"
   ]
  },
  {
   "cell_type": "code",
   "execution_count": null,
   "metadata": {},
   "outputs": [],
   "source": [
    "def load_img_label(labels_df,id_):\n",
    "  imgName = labels_df[\"imgName\"]\n",
    "  if imgName[id_][0] == \"A\":\n",
    "    prefix = \"AMD\"\n",
    "  else:\n",
    "    prefix = \"Non-AMD\"\n",
    "  fullPath2img = os.path.join(path2data, \"Training400\", prefix, imgName[id_])\n",
    "  img = Image.open(fullPath2img)\n",
    "  x=labels_df[\"Fovea_X\"][id_]\n",
    "  y=labels_df[\"Fovea_Y\"][id_]\n",
    "  label=(x,y)\n",
    "  return img,label\n",
    "\n",
    "def show_img_label(img, label, w_h=(50,50),thickness=2):\n",
    "  w,h = w_h \n",
    "  cx,cy = label\n",
    "  draw = ImageDraw.Draw(img)\n",
    "  draw.rectangle(((cx-w/2, cy-h/2),(cx+w/2, cy+h/2)), outline=\"green\", width=thickness)\n",
    "  plt.imshow(np.asarray(img))\n"
   ]
  },
  {
   "cell_type": "code",
   "execution_count": null,
   "metadata": {},
   "outputs": [],
   "source": [
    "for i,id_ in enumerate(rndIds):\n",
    "  img,label=load_img_label(labels_df,id_)\n",
    "  print(img.size,label)\n",
    "  plt.subplot(nrows, ncols, i+1)\n",
    "  show_img_label(img,label,w_h=(250,250),thickness=20)\n",
    "  plt.title(imgName[id_])"
   ]
  },
  {
   "cell_type": "code",
   "execution_count": null,
   "metadata": {},
   "outputs": [],
   "source": [
    "h_list,w_list = [],[]\n",
    "for id_ in ids:\n",
    "  if imgName [id_][0] == \"A\":\n",
    "    prefix = \"AMD\"\n",
    "  else:\n",
    "    prefix = \"Non-AMD\"\n",
    "  fullPath2img=os.path.join(path2data,\"Training400\",prefix,imgName[id_])\n",
    "  img = Image.open(fullPath2img)\n",
    "  h,w=img.size\n",
    "  h_list.append(h)\n",
    "  w_list.append(w)\n",
    "sns.distplot(a=h_list, kde=False)"
   ]
  },
  {
   "cell_type": "code",
   "execution_count": null,
   "metadata": {},
   "outputs": [],
   "source": [
    "sns.distplot(a=w_list, kde=False)"
   ]
  }
 ],
 "metadata": {
  "kernelspec": {
   "display_name": "Python 3",
   "language": "python",
   "name": "python3"
  },
  "language_info": {
   "codemirror_mode": {
    "name": "ipython",
    "version": 3
   },
   "file_extension": ".py",
   "mimetype": "text/x-python",
   "name": "python",
   "nbconvert_exporter": "python",
   "pygments_lexer": "ipython3",
   "version": "3.6.5"
  }
 },
 "nbformat": 4,
 "nbformat_minor": 2
}
